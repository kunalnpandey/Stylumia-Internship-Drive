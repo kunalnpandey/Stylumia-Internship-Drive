{
 "cells": [
  {
   "cell_type": "markdown",
   "metadata": {},
   "source": [
    "# Student Alcohol Consumption "
   ]
  },
  {
   "cell_type": "markdown",
   "metadata": {},
   "source": [
    "In this problem with datastes I have tried to figure how Total alcohol consumption by a student in a week depends on the factors listed in the dataset.Since it is a multiclass problem therefore multiclass classifier has been used like SVM,KNN,Decision Tree,etc. "
   ]
  },
  {
   "cell_type": "code",
   "execution_count": 2,
   "metadata": {
    "collapsed": false
   },
   "outputs": [],
   "source": [
    "#importing necessary library\n",
    "import numpy as np\n",
    "import pandas as pd\n",
    "import matplotlib.pyplot as plt\n",
    "import seaborn as sns\n",
    "from sklearn import metrics\n",
    "from sklearn.cross_validation import train_test_split\n",
    "from sklearn import model_selection\n",
    "from sklearn.linear_model import LogisticRegression\n",
    "from sklearn.tree import DecisionTreeClassifier\n",
    "from sklearn.neighbors import KNeighborsClassifier\n",
    "from sklearn.discriminant_analysis import LinearDiscriminantAnalysis as LDA\n",
    "from sklearn.ensemble import RandomForestRegressor\n",
    "\n",
    "import warnings\n",
    "warnings.filterwarnings('ignore')"
   ]
  },
  {
   "cell_type": "code",
   "execution_count": 3,
   "metadata": {
    "collapsed": false
   },
   "outputs": [],
   "source": [
    "# Input data files are available in the \"input/\" directory.\n",
    "math=pd.read_csv(\"input/student-mat.csv\")  #reading the train dataset\n",
    "port=pd.read_csv(\"input/student-por.csv\")  #reading the test dataset"
   ]
  },
  {
   "cell_type": "code",
   "execution_count": 4,
   "metadata": {
    "collapsed": true
   },
   "outputs": [],
   "source": [
    "math=math.append(port)   # merging both datastes into a single datasets"
   ]
  },
  {
   "cell_type": "code",
   "execution_count": 5,
   "metadata": {
    "collapsed": false
   },
   "outputs": [
    {
     "data": {
      "text/plain": [
       "0"
      ]
     },
     "execution_count": 5,
     "metadata": {},
     "output_type": "execute_result"
    }
   ],
   "source": [
    "math.duplicated().sum()  #Checking for duplicates"
   ]
  },
  {
   "cell_type": "code",
   "execution_count": 6,
   "metadata": {
    "collapsed": false
   },
   "outputs": [
    {
     "name": "stdout",
     "output_type": "stream",
     "text": [
      "<class 'pandas.core.frame.DataFrame'>\n",
      "Int64Index: 1044 entries, 0 to 648\n",
      "Data columns (total 33 columns):\n",
      "school        1044 non-null object\n",
      "sex           1044 non-null object\n",
      "age           1044 non-null int64\n",
      "address       1044 non-null object\n",
      "famsize       1044 non-null object\n",
      "Pstatus       1044 non-null object\n",
      "Medu          1044 non-null int64\n",
      "Fedu          1044 non-null int64\n",
      "Mjob          1044 non-null object\n",
      "Fjob          1044 non-null object\n",
      "reason        1044 non-null object\n",
      "guardian      1044 non-null object\n",
      "traveltime    1044 non-null int64\n",
      "studytime     1044 non-null int64\n",
      "failures      1044 non-null int64\n",
      "schoolsup     1044 non-null object\n",
      "famsup        1044 non-null object\n",
      "paid          1044 non-null object\n",
      "activities    1044 non-null object\n",
      "nursery       1044 non-null object\n",
      "higher        1044 non-null object\n",
      "internet      1044 non-null object\n",
      "romantic      1044 non-null object\n",
      "famrel        1044 non-null int64\n",
      "freetime      1044 non-null int64\n",
      "goout         1044 non-null int64\n",
      "Dalc          1044 non-null int64\n",
      "Walc          1044 non-null int64\n",
      "health        1044 non-null int64\n",
      "absences      1044 non-null int64\n",
      "G1            1044 non-null int64\n",
      "G2            1044 non-null int64\n",
      "G3            1044 non-null int64\n",
      "dtypes: int64(16), object(17)\n",
      "memory usage: 277.3+ KB\n"
     ]
    }
   ],
   "source": [
    "math.info()             #getting datasets info"
   ]
  },
  {
   "cell_type": "code",
   "execution_count": 7,
   "metadata": {
    "collapsed": false
   },
   "outputs": [
    {
     "data": {
      "text/html": [
       "<div>\n",
       "<table border=\"1\" class=\"dataframe\">\n",
       "  <thead>\n",
       "    <tr style=\"text-align: right;\">\n",
       "      <th></th>\n",
       "      <th>school</th>\n",
       "      <th>sex</th>\n",
       "      <th>age</th>\n",
       "      <th>address</th>\n",
       "      <th>famsize</th>\n",
       "      <th>Pstatus</th>\n",
       "      <th>Medu</th>\n",
       "      <th>Fedu</th>\n",
       "      <th>Mjob</th>\n",
       "      <th>Fjob</th>\n",
       "      <th>...</th>\n",
       "      <th>famrel</th>\n",
       "      <th>freetime</th>\n",
       "      <th>goout</th>\n",
       "      <th>Dalc</th>\n",
       "      <th>Walc</th>\n",
       "      <th>health</th>\n",
       "      <th>absences</th>\n",
       "      <th>G1</th>\n",
       "      <th>G2</th>\n",
       "      <th>G3</th>\n",
       "    </tr>\n",
       "  </thead>\n",
       "  <tbody>\n",
       "    <tr>\n",
       "      <th>0</th>\n",
       "      <td>GP</td>\n",
       "      <td>F</td>\n",
       "      <td>18</td>\n",
       "      <td>U</td>\n",
       "      <td>GT3</td>\n",
       "      <td>A</td>\n",
       "      <td>4</td>\n",
       "      <td>4</td>\n",
       "      <td>at_home</td>\n",
       "      <td>teacher</td>\n",
       "      <td>...</td>\n",
       "      <td>4</td>\n",
       "      <td>3</td>\n",
       "      <td>4</td>\n",
       "      <td>1</td>\n",
       "      <td>1</td>\n",
       "      <td>3</td>\n",
       "      <td>6</td>\n",
       "      <td>5</td>\n",
       "      <td>6</td>\n",
       "      <td>6</td>\n",
       "    </tr>\n",
       "    <tr>\n",
       "      <th>1</th>\n",
       "      <td>GP</td>\n",
       "      <td>F</td>\n",
       "      <td>17</td>\n",
       "      <td>U</td>\n",
       "      <td>GT3</td>\n",
       "      <td>T</td>\n",
       "      <td>1</td>\n",
       "      <td>1</td>\n",
       "      <td>at_home</td>\n",
       "      <td>other</td>\n",
       "      <td>...</td>\n",
       "      <td>5</td>\n",
       "      <td>3</td>\n",
       "      <td>3</td>\n",
       "      <td>1</td>\n",
       "      <td>1</td>\n",
       "      <td>3</td>\n",
       "      <td>4</td>\n",
       "      <td>5</td>\n",
       "      <td>5</td>\n",
       "      <td>6</td>\n",
       "    </tr>\n",
       "    <tr>\n",
       "      <th>2</th>\n",
       "      <td>GP</td>\n",
       "      <td>F</td>\n",
       "      <td>15</td>\n",
       "      <td>U</td>\n",
       "      <td>LE3</td>\n",
       "      <td>T</td>\n",
       "      <td>1</td>\n",
       "      <td>1</td>\n",
       "      <td>at_home</td>\n",
       "      <td>other</td>\n",
       "      <td>...</td>\n",
       "      <td>4</td>\n",
       "      <td>3</td>\n",
       "      <td>2</td>\n",
       "      <td>2</td>\n",
       "      <td>3</td>\n",
       "      <td>3</td>\n",
       "      <td>10</td>\n",
       "      <td>7</td>\n",
       "      <td>8</td>\n",
       "      <td>10</td>\n",
       "    </tr>\n",
       "    <tr>\n",
       "      <th>3</th>\n",
       "      <td>GP</td>\n",
       "      <td>F</td>\n",
       "      <td>15</td>\n",
       "      <td>U</td>\n",
       "      <td>GT3</td>\n",
       "      <td>T</td>\n",
       "      <td>4</td>\n",
       "      <td>2</td>\n",
       "      <td>health</td>\n",
       "      <td>services</td>\n",
       "      <td>...</td>\n",
       "      <td>3</td>\n",
       "      <td>2</td>\n",
       "      <td>2</td>\n",
       "      <td>1</td>\n",
       "      <td>1</td>\n",
       "      <td>5</td>\n",
       "      <td>2</td>\n",
       "      <td>15</td>\n",
       "      <td>14</td>\n",
       "      <td>15</td>\n",
       "    </tr>\n",
       "    <tr>\n",
       "      <th>4</th>\n",
       "      <td>GP</td>\n",
       "      <td>F</td>\n",
       "      <td>16</td>\n",
       "      <td>U</td>\n",
       "      <td>GT3</td>\n",
       "      <td>T</td>\n",
       "      <td>3</td>\n",
       "      <td>3</td>\n",
       "      <td>other</td>\n",
       "      <td>other</td>\n",
       "      <td>...</td>\n",
       "      <td>4</td>\n",
       "      <td>3</td>\n",
       "      <td>2</td>\n",
       "      <td>1</td>\n",
       "      <td>2</td>\n",
       "      <td>5</td>\n",
       "      <td>4</td>\n",
       "      <td>6</td>\n",
       "      <td>10</td>\n",
       "      <td>10</td>\n",
       "    </tr>\n",
       "  </tbody>\n",
       "</table>\n",
       "<p>5 rows × 33 columns</p>\n",
       "</div>"
      ],
      "text/plain": [
       "  school sex  age address famsize Pstatus  Medu  Fedu     Mjob      Fjob ...  \\\n",
       "0     GP   F   18       U     GT3       A     4     4  at_home   teacher ...   \n",
       "1     GP   F   17       U     GT3       T     1     1  at_home     other ...   \n",
       "2     GP   F   15       U     LE3       T     1     1  at_home     other ...   \n",
       "3     GP   F   15       U     GT3       T     4     2   health  services ...   \n",
       "4     GP   F   16       U     GT3       T     3     3    other     other ...   \n",
       "\n",
       "  famrel freetime  goout  Dalc  Walc health absences  G1  G2  G3  \n",
       "0      4        3      4     1     1      3        6   5   6   6  \n",
       "1      5        3      3     1     1      3        4   5   5   6  \n",
       "2      4        3      2     2     3      3       10   7   8  10  \n",
       "3      3        2      2     1     1      5        2  15  14  15  \n",
       "4      4        3      2     1     2      5        4   6  10  10  \n",
       "\n",
       "[5 rows x 33 columns]"
      ]
     },
     "execution_count": 7,
     "metadata": {},
     "output_type": "execute_result"
    }
   ],
   "source": [
    "math.head()"
   ]
  },
  {
   "cell_type": "code",
   "execution_count": 8,
   "metadata": {
    "collapsed": false
   },
   "outputs": [
    {
     "data": {
      "text/plain": [
       "Index(['school', 'sex', 'age', 'address', 'famsize', 'Pstatus', 'Medu', 'Fedu',\n",
       "       'Mjob', 'Fjob', 'reason', 'guardian', 'traveltime', 'studytime',\n",
       "       'failures', 'schoolsup', 'famsup', 'paid', 'activities', 'nursery',\n",
       "       'higher', 'internet', 'romantic', 'famrel', 'freetime', 'goout', 'Dalc',\n",
       "       'Walc', 'health', 'absences', 'G1', 'G2', 'G3'],\n",
       "      dtype='object')"
      ]
     },
     "execution_count": 8,
     "metadata": {},
     "output_type": "execute_result"
    }
   ],
   "source": [
    "math.columns   #listing the name of column "
   ]
  },
  {
   "cell_type": "code",
   "execution_count": 9,
   "metadata": {
    "collapsed": false
   },
   "outputs": [
    {
     "data": {
      "text/plain": [
       "school        0\n",
       "sex           0\n",
       "age           0\n",
       "address       0\n",
       "famsize       0\n",
       "Pstatus       0\n",
       "Medu          0\n",
       "Fedu          0\n",
       "Mjob          0\n",
       "Fjob          0\n",
       "reason        0\n",
       "guardian      0\n",
       "traveltime    0\n",
       "studytime     0\n",
       "failures      0\n",
       "schoolsup     0\n",
       "famsup        0\n",
       "paid          0\n",
       "activities    0\n",
       "nursery       0\n",
       "higher        0\n",
       "internet      0\n",
       "romantic      0\n",
       "famrel        0\n",
       "freetime      0\n",
       "goout         0\n",
       "Dalc          0\n",
       "Walc          0\n",
       "health        0\n",
       "absences      0\n",
       "G1            0\n",
       "G2            0\n",
       "G3            0\n",
       "dtype: int64"
      ]
     },
     "execution_count": 9,
     "metadata": {},
     "output_type": "execute_result"
    }
   ],
   "source": [
    "#checking for null enteries\n",
    "math.isnull().sum()"
   ]
  },
  {
   "cell_type": "code",
   "execution_count": 10,
   "metadata": {
    "collapsed": false
   },
   "outputs": [
    {
     "data": {
      "image/png": "[encoded data removed]",
      "text/plain": [
       "<Figure size 576x396 with 1 Axes>"
      ]
     },
     "metadata": {},
     "output_type": "display_data"
    }
   ],
   "source": [
    "#Distribution across G3\n",
    "sns.countplot(x='G3',data=math, palette='hls')\n",
    "plt.show()"
   ]
  },
  {
   "cell_type": "code",
   "execution_count": 11,
   "metadata": {
    "collapsed": false
   },
   "outputs": [
    {
     "data": {
      "image/png": "[encoded data removed]",
      "text/plain": [
       "<Figure size 576x396 with 1 Axes>"
      ]
     },
     "metadata": {},
     "output_type": "display_data"
    }
   ],
   "source": [
    "#Students health distribution\n",
    "sns.countplot(x='health',data=math)\n",
    "plt.show()"
   ]
  },
  {
   "cell_type": "code",
   "execution_count": 12,
   "metadata": {
    "collapsed": true
   },
   "outputs": [],
   "source": [
    "#combining workday and weekend alcohol consumption\n",
    "math['Dalc']=math['Dalc']+math['Walc']"
   ]
  },
  {
   "cell_type": "code",
   "execution_count": 13,
   "metadata": {
    "collapsed": false
   },
   "outputs": [
    {
     "data": {
      "image/png": "[encoded data removed]",
      "text/plain": [
       "<Figure size 576x396 with 1 Axes>"
      ]
     },
     "metadata": {},
     "output_type": "display_data"
    }
   ],
   "source": [
    "#distribution across total alchol cosumption\n",
    "sns.countplot(x='Dalc',data=math)\n",
    "plt.show()"
   ]
  },
  {
   "cell_type": "code",
   "execution_count": 14,
   "metadata": {
    "collapsed": false
   },
   "outputs": [
    {
     "data": {
      "image/png": "[encoded data removed]",
      "text/plain": [
       "<Figure size 576x396 with 1 Axes>"
      ]
     },
     "metadata": {},
     "output_type": "display_data"
    }
   ],
   "source": [
    "#distribution across freetime\n",
    "sns.countplot(x='freetime',data=math)\n",
    "plt.show()"
   ]
  },
  {
   "cell_type": "code",
   "execution_count": 15,
   "metadata": {
    "collapsed": false
   },
   "outputs": [
    {
     "data": {
      "image/png": "[encoded data removed]",
      "text/plain": [
       "<Figure size 576x396 with 1 Axes>"
      ]
     },
     "metadata": {},
     "output_type": "display_data"
    }
   ],
   "source": [
    "#past class failure distribution\n",
    "sns.countplot(x='failures',data=math)\n",
    "plt.show()"
   ]
  },
  {
   "cell_type": "code",
   "execution_count": 16,
   "metadata": {
    "collapsed": false
   },
   "outputs": [
    {
     "data": {
      "image/png": "[encoded data removed]",
      "text/plain": [
       "<Figure size 576x396 with 1 Axes>"
      ]
     },
     "metadata": {},
     "output_type": "display_data"
    }
   ],
   "source": [
    "#first period grade distribution\n",
    "sns.countplot(x='G1',data=math)\n",
    "plt.show()"
   ]
  },
  {
   "cell_type": "code",
   "execution_count": 17,
   "metadata": {
    "collapsed": false
   },
   "outputs": [
    {
     "data": {
      "image/png": "[encoded data removed]",
      "text/plain": [
       "<Figure size 576x396 with 1 Axes>"
      ]
     },
     "metadata": {},
     "output_type": "display_data"
    }
   ],
   "source": [
    "#second period grade distribution\n",
    "sns.countplot(x='G2',data=math)\n",
    "plt.show()"
   ]
  },
  {
   "cell_type": "code",
   "execution_count": 18,
   "metadata": {
    "collapsed": false
   },
   "outputs": [
    {
     "data": {
      "image/png": "[encoded data removed]",
      "text/plain": [
       "<Figure size 576x396 with 1 Axes>"
      ]
     },
     "metadata": {},
     "output_type": "display_data"
    }
   ],
   "source": [
    "#Distribution across age\n",
    "sns.countplot(x='age',data=math)\n",
    "plt.show()"
   ]
  },
  {
   "cell_type": "code",
   "execution_count": 19,
   "metadata": {
    "collapsed": false
   },
   "outputs": [
    {
     "data": {
      "text/html": [
       "<div>\n",
       "<table border=\"1\" class=\"dataframe\">\n",
       "  <thead>\n",
       "    <tr style=\"text-align: right;\">\n",
       "      <th></th>\n",
       "      <th>age</th>\n",
       "      <th>Medu</th>\n",
       "      <th>Fedu</th>\n",
       "      <th>traveltime</th>\n",
       "      <th>studytime</th>\n",
       "      <th>failures</th>\n",
       "      <th>famrel</th>\n",
       "      <th>freetime</th>\n",
       "      <th>goout</th>\n",
       "      <th>Dalc</th>\n",
       "      <th>Walc</th>\n",
       "      <th>health</th>\n",
       "      <th>absences</th>\n",
       "      <th>G1</th>\n",
       "      <th>G2</th>\n",
       "      <th>G3</th>\n",
       "    </tr>\n",
       "  </thead>\n",
       "  <tbody>\n",
       "    <tr>\n",
       "      <th>age</th>\n",
       "      <td>1.000000</td>\n",
       "      <td>-0.130196</td>\n",
       "      <td>-0.138521</td>\n",
       "      <td>0.049216</td>\n",
       "      <td>-0.007870</td>\n",
       "      <td>0.282364</td>\n",
       "      <td>0.007162</td>\n",
       "      <td>0.002645</td>\n",
       "      <td>0.118510</td>\n",
       "      <td>0.124714</td>\n",
       "      <td>0.098291</td>\n",
       "      <td>-0.029129</td>\n",
       "      <td>0.153196</td>\n",
       "      <td>-0.124121</td>\n",
       "      <td>-0.119475</td>\n",
       "      <td>-0.125282</td>\n",
       "    </tr>\n",
       "    <tr>\n",
       "      <th>Medu</th>\n",
       "      <td>-0.130196</td>\n",
       "      <td>1.000000</td>\n",
       "      <td>0.642063</td>\n",
       "      <td>-0.238181</td>\n",
       "      <td>0.090616</td>\n",
       "      <td>-0.187769</td>\n",
       "      <td>0.015004</td>\n",
       "      <td>0.001054</td>\n",
       "      <td>0.025614</td>\n",
       "      <td>-0.018261</td>\n",
       "      <td>-0.029331</td>\n",
       "      <td>-0.013254</td>\n",
       "      <td>0.059708</td>\n",
       "      <td>0.226101</td>\n",
       "      <td>0.224662</td>\n",
       "      <td>0.201472</td>\n",
       "    </tr>\n",
       "    <tr>\n",
       "      <th>Fedu</th>\n",
       "      <td>-0.138521</td>\n",
       "      <td>0.642063</td>\n",
       "      <td>1.000000</td>\n",
       "      <td>-0.196328</td>\n",
       "      <td>0.033458</td>\n",
       "      <td>-0.191390</td>\n",
       "      <td>0.013066</td>\n",
       "      <td>0.002142</td>\n",
       "      <td>0.030075</td>\n",
       "      <td>0.012543</td>\n",
       "      <td>0.019524</td>\n",
       "      <td>0.034288</td>\n",
       "      <td>0.040829</td>\n",
       "      <td>0.195898</td>\n",
       "      <td>0.182634</td>\n",
       "      <td>0.159796</td>\n",
       "    </tr>\n",
       "    <tr>\n",
       "      <th>traveltime</th>\n",
       "      <td>0.049216</td>\n",
       "      <td>-0.238181</td>\n",
       "      <td>-0.196328</td>\n",
       "      <td>1.000000</td>\n",
       "      <td>-0.081328</td>\n",
       "      <td>0.087177</td>\n",
       "      <td>-0.012578</td>\n",
       "      <td>-0.007403</td>\n",
       "      <td>0.049740</td>\n",
       "      <td>0.104649</td>\n",
       "      <td>0.084292</td>\n",
       "      <td>-0.029002</td>\n",
       "      <td>-0.022669</td>\n",
       "      <td>-0.121053</td>\n",
       "      <td>-0.140163</td>\n",
       "      <td>-0.102627</td>\n",
       "    </tr>\n",
       "    <tr>\n",
       "      <th>studytime</th>\n",
       "      <td>-0.007870</td>\n",
       "      <td>0.090616</td>\n",
       "      <td>0.033458</td>\n",
       "      <td>-0.081328</td>\n",
       "      <td>1.000000</td>\n",
       "      <td>-0.152024</td>\n",
       "      <td>0.012324</td>\n",
       "      <td>-0.094429</td>\n",
       "      <td>-0.072941</td>\n",
       "      <td>-0.221255</td>\n",
       "      <td>-0.229073</td>\n",
       "      <td>-0.063044</td>\n",
       "      <td>-0.075594</td>\n",
       "      <td>0.211314</td>\n",
       "      <td>0.183167</td>\n",
       "      <td>0.161629</td>\n",
       "    </tr>\n",
       "    <tr>\n",
       "      <th>failures</th>\n",
       "      <td>0.282364</td>\n",
       "      <td>-0.187769</td>\n",
       "      <td>-0.191390</td>\n",
       "      <td>0.087177</td>\n",
       "      <td>-0.152024</td>\n",
       "      <td>1.000000</td>\n",
       "      <td>-0.053676</td>\n",
       "      <td>0.102679</td>\n",
       "      <td>0.074683</td>\n",
       "      <td>0.122773</td>\n",
       "      <td>0.107432</td>\n",
       "      <td>0.048311</td>\n",
       "      <td>0.099998</td>\n",
       "      <td>-0.374175</td>\n",
       "      <td>-0.377172</td>\n",
       "      <td>-0.383145</td>\n",
       "    </tr>\n",
       "    <tr>\n",
       "      <th>famrel</th>\n",
       "      <td>0.007162</td>\n",
       "      <td>0.015004</td>\n",
       "      <td>0.013066</td>\n",
       "      <td>-0.012578</td>\n",
       "      <td>0.012324</td>\n",
       "      <td>-0.053676</td>\n",
       "      <td>1.000000</td>\n",
       "      <td>0.136901</td>\n",
       "      <td>0.080619</td>\n",
       "      <td>-0.100126</td>\n",
       "      <td>-0.100663</td>\n",
       "      <td>0.104101</td>\n",
       "      <td>-0.062171</td>\n",
       "      <td>0.036947</td>\n",
       "      <td>0.042054</td>\n",
       "      <td>0.054461</td>\n",
       "    </tr>\n",
       "    <tr>\n",
       "      <th>freetime</th>\n",
       "      <td>0.002645</td>\n",
       "      <td>0.001054</td>\n",
       "      <td>0.002142</td>\n",
       "      <td>-0.007403</td>\n",
       "      <td>-0.094429</td>\n",
       "      <td>0.102679</td>\n",
       "      <td>0.136901</td>\n",
       "      <td>1.000000</td>\n",
       "      <td>0.323556</td>\n",
       "      <td>0.150736</td>\n",
       "      <td>0.130377</td>\n",
       "      <td>0.081517</td>\n",
       "      <td>-0.032079</td>\n",
       "      <td>-0.051985</td>\n",
       "      <td>-0.068952</td>\n",
       "      <td>-0.064890</td>\n",
       "    </tr>\n",
       "    <tr>\n",
       "      <th>goout</th>\n",
       "      <td>0.118510</td>\n",
       "      <td>0.025614</td>\n",
       "      <td>0.030075</td>\n",
       "      <td>0.049740</td>\n",
       "      <td>-0.072941</td>\n",
       "      <td>0.074683</td>\n",
       "      <td>0.080619</td>\n",
       "      <td>0.323556</td>\n",
       "      <td>1.000000</td>\n",
       "      <td>0.374447</td>\n",
       "      <td>0.399794</td>\n",
       "      <td>-0.013736</td>\n",
       "      <td>0.056142</td>\n",
       "      <td>-0.101163</td>\n",
       "      <td>-0.108411</td>\n",
       "      <td>-0.097877</td>\n",
       "    </tr>\n",
       "    <tr>\n",
       "      <th>Dalc</th>\n",
       "      <td>0.124714</td>\n",
       "      <td>-0.018261</td>\n",
       "      <td>0.012543</td>\n",
       "      <td>0.104649</td>\n",
       "      <td>-0.221255</td>\n",
       "      <td>0.122773</td>\n",
       "      <td>-0.100126</td>\n",
       "      <td>0.150736</td>\n",
       "      <td>0.374447</td>\n",
       "      <td>1.000000</td>\n",
       "      <td>0.934148</td>\n",
       "      <td>0.098979</td>\n",
       "      <td>0.151209</td>\n",
       "      <td>-0.161241</td>\n",
       "      <td>-0.143128</td>\n",
       "      <td>-0.134244</td>\n",
       "    </tr>\n",
       "    <tr>\n",
       "      <th>Walc</th>\n",
       "      <td>0.098291</td>\n",
       "      <td>-0.029331</td>\n",
       "      <td>0.019524</td>\n",
       "      <td>0.084292</td>\n",
       "      <td>-0.229073</td>\n",
       "      <td>0.107432</td>\n",
       "      <td>-0.100663</td>\n",
       "      <td>0.130377</td>\n",
       "      <td>0.399794</td>\n",
       "      <td>0.934148</td>\n",
       "      <td>1.000000</td>\n",
       "      <td>0.106669</td>\n",
       "      <td>0.139703</td>\n",
       "      <td>-0.142401</td>\n",
       "      <td>-0.128114</td>\n",
       "      <td>-0.115740</td>\n",
       "    </tr>\n",
       "    <tr>\n",
       "      <th>health</th>\n",
       "      <td>-0.029129</td>\n",
       "      <td>-0.013254</td>\n",
       "      <td>0.034288</td>\n",
       "      <td>-0.029002</td>\n",
       "      <td>-0.063044</td>\n",
       "      <td>0.048311</td>\n",
       "      <td>0.104101</td>\n",
       "      <td>0.081517</td>\n",
       "      <td>-0.013736</td>\n",
       "      <td>0.098979</td>\n",
       "      <td>0.106669</td>\n",
       "      <td>1.000000</td>\n",
       "      <td>-0.027479</td>\n",
       "      <td>-0.060478</td>\n",
       "      <td>-0.088001</td>\n",
       "      <td>-0.080079</td>\n",
       "    </tr>\n",
       "    <tr>\n",
       "      <th>absences</th>\n",
       "      <td>0.153196</td>\n",
       "      <td>0.059708</td>\n",
       "      <td>0.040829</td>\n",
       "      <td>-0.022669</td>\n",
       "      <td>-0.075594</td>\n",
       "      <td>0.099998</td>\n",
       "      <td>-0.062171</td>\n",
       "      <td>-0.032079</td>\n",
       "      <td>0.056142</td>\n",
       "      <td>0.151209</td>\n",
       "      <td>0.139703</td>\n",
       "      <td>-0.027479</td>\n",
       "      <td>1.000000</td>\n",
       "      <td>-0.092425</td>\n",
       "      <td>-0.089332</td>\n",
       "      <td>-0.045671</td>\n",
       "    </tr>\n",
       "    <tr>\n",
       "      <th>G1</th>\n",
       "      <td>-0.124121</td>\n",
       "      <td>0.226101</td>\n",
       "      <td>0.195898</td>\n",
       "      <td>-0.121053</td>\n",
       "      <td>0.211314</td>\n",
       "      <td>-0.374175</td>\n",
       "      <td>0.036947</td>\n",
       "      <td>-0.051985</td>\n",
       "      <td>-0.101163</td>\n",
       "      <td>-0.161241</td>\n",
       "      <td>-0.142401</td>\n",
       "      <td>-0.060478</td>\n",
       "      <td>-0.092425</td>\n",
       "      <td>1.000000</td>\n",
       "      <td>0.858739</td>\n",
       "      <td>0.809142</td>\n",
       "    </tr>\n",
       "    <tr>\n",
       "      <th>G2</th>\n",
       "      <td>-0.119475</td>\n",
       "      <td>0.224662</td>\n",
       "      <td>0.182634</td>\n",
       "      <td>-0.140163</td>\n",
       "      <td>0.183167</td>\n",
       "      <td>-0.377172</td>\n",
       "      <td>0.042054</td>\n",
       "      <td>-0.068952</td>\n",
       "      <td>-0.108411</td>\n",
       "      <td>-0.143128</td>\n",
       "      <td>-0.128114</td>\n",
       "      <td>-0.088001</td>\n",
       "      <td>-0.089332</td>\n",
       "      <td>0.858739</td>\n",
       "      <td>1.000000</td>\n",
       "      <td>0.910743</td>\n",
       "    </tr>\n",
       "    <tr>\n",
       "      <th>G3</th>\n",
       "      <td>-0.125282</td>\n",
       "      <td>0.201472</td>\n",
       "      <td>0.159796</td>\n",
       "      <td>-0.102627</td>\n",
       "      <td>0.161629</td>\n",
       "      <td>-0.383145</td>\n",
       "      <td>0.054461</td>\n",
       "      <td>-0.064890</td>\n",
       "      <td>-0.097877</td>\n",
       "      <td>-0.134244</td>\n",
       "      <td>-0.115740</td>\n",
       "      <td>-0.080079</td>\n",
       "      <td>-0.045671</td>\n",
       "      <td>0.809142</td>\n",
       "      <td>0.910743</td>\n",
       "      <td>1.000000</td>\n",
       "    </tr>\n",
       "  </tbody>\n",
       "</table>\n",
       "</div>"
      ],
      "text/plain": [
       "                 age      Medu      Fedu  traveltime  studytime  failures  \\\n",
       "age         1.000000 -0.130196 -0.138521    0.049216  -0.007870  0.282364   \n",
       "Medu       -0.130196  1.000000  0.642063   -0.238181   0.090616 -0.187769   \n",
       "Fedu       -0.138521  0.642063  1.000000   -0.196328   0.033458 -0.191390   \n",
       "traveltime  0.049216 -0.238181 -0.196328    1.000000  -0.081328  0.087177   \n",
       "studytime  -0.007870  0.090616  0.033458   -0.081328   1.000000 -0.152024   \n",
       "failures    0.282364 -0.187769 -0.191390    0.087177  -0.152024  1.000000   \n",
       "famrel      0.007162  0.015004  0.013066   -0.012578   0.012324 -0.053676   \n",
       "freetime    0.002645  0.001054  0.002142   -0.007403  -0.094429  0.102679   \n",
       "goout       0.118510  0.025614  0.030075    0.049740  -0.072941  0.074683   \n",
       "Dalc        0.124714 -0.018261  0.012543    0.104649  -0.221255  0.122773   \n",
       "Walc        0.098291 -0.029331  0.019524    0.084292  -0.229073  0.107432   \n",
       "health     -0.029129 -0.013254  0.034288   -0.029002  -0.063044  0.048311   \n",
       "absences    0.153196  0.059708  0.040829   -0.022669  -0.075594  0.099998   \n",
       "G1         -0.124121  0.226101  0.195898   -0.121053   0.211314 -0.374175   \n",
       "G2         -0.119475  0.224662  0.182634   -0.140163   0.183167 -0.377172   \n",
       "G3         -0.125282  0.201472  0.159796   -0.102627   0.161629 -0.383145   \n",
       "\n",
       "              famrel  freetime     goout      Dalc      Walc    health  \\\n",
       "age         0.007162  0.002645  0.118510  0.124714  0.098291 -0.029129   \n",
       "Medu        0.015004  0.001054  0.025614 -0.018261 -0.029331 -0.013254   \n",
       "Fedu        0.013066  0.002142  0.030075  0.012543  0.019524  0.034288   \n",
       "traveltime -0.012578 -0.007403  0.049740  0.104649  0.084292 -0.029002   \n",
       "studytime   0.012324 -0.094429 -0.072941 -0.221255 -0.229073 -0.063044   \n",
       "failures   -0.053676  0.102679  0.074683  0.122773  0.107432  0.048311   \n",
       "famrel      1.000000  0.136901  0.080619 -0.100126 -0.100663  0.104101   \n",
       "freetime    0.136901  1.000000  0.323556  0.150736  0.130377  0.081517   \n",
       "goout       0.080619  0.323556  1.000000  0.374447  0.399794 -0.013736   \n",
       "Dalc       -0.100126  0.150736  0.374447  1.000000  0.934148  0.098979   \n",
       "Walc       -0.100663  0.130377  0.399794  0.934148  1.000000  0.106669   \n",
       "health      0.104101  0.081517 -0.013736  0.098979  0.106669  1.000000   \n",
       "absences   -0.062171 -0.032079  0.056142  0.151209  0.139703 -0.027479   \n",
       "G1          0.036947 -0.051985 -0.101163 -0.161241 -0.142401 -0.060478   \n",
       "G2          0.042054 -0.068952 -0.108411 -0.143128 -0.128114 -0.088001   \n",
       "G3          0.054461 -0.064890 -0.097877 -0.134244 -0.115740 -0.080079   \n",
       "\n",
       "            absences        G1        G2        G3  \n",
       "age         0.153196 -0.124121 -0.119475 -0.125282  \n",
       "Medu        0.059708  0.226101  0.224662  0.201472  \n",
       "Fedu        0.040829  0.195898  0.182634  0.159796  \n",
       "traveltime -0.022669 -0.121053 -0.140163 -0.102627  \n",
       "studytime  -0.075594  0.211314  0.183167  0.161629  \n",
       "failures    0.099998 -0.374175 -0.377172 -0.383145  \n",
       "famrel     -0.062171  0.036947  0.042054  0.054461  \n",
       "freetime   -0.032079 -0.051985 -0.068952 -0.064890  \n",
       "goout       0.056142 -0.101163 -0.108411 -0.097877  \n",
       "Dalc        0.151209 -0.161241 -0.143128 -0.134244  \n",
       "Walc        0.139703 -0.142401 -0.128114 -0.115740  \n",
       "health     -0.027479 -0.060478 -0.088001 -0.080079  \n",
       "absences    1.000000 -0.092425 -0.089332 -0.045671  \n",
       "G1         -0.092425  1.000000  0.858739  0.809142  \n",
       "G2         -0.089332  0.858739  1.000000  0.910743  \n",
       "G3         -0.045671  0.809142  0.910743  1.000000  "
      ]
     },
     "execution_count": 19,
     "metadata": {},
     "output_type": "execute_result"
    }
   ],
   "source": [
    "math.corr()"
   ]
  },
  {
   "cell_type": "code",
   "execution_count": 20,
   "metadata": {
    "collapsed": false
   },
   "outputs": [
    {
     "data": {
      "image/png": "[encoded data removed]",
      "text/plain": [
       "<Figure size 1296x1296 with 2 Axes>"
      ]
     },
     "metadata": {},
     "output_type": "display_data"
    }
   ],
   "source": [
    "#heat map\n",
    "f,ax = plt.subplots(figsize=(18, 18))\n",
    "sns.heatmap(math.corr(), annot=True, linewidths=.5, fmt= '.1f',ax=ax)\n",
    "plt.xticks(rotation=90)\n",
    "plt.yticks(rotation = 0)\n",
    "plt.show()"
   ]
  },
  {
   "cell_type": "code",
   "execution_count": 21,
   "metadata": {
    "collapsed": false
   },
   "outputs": [
    {
     "data": {
      "text/plain": [
       "Index(['school', 'sex', 'age', 'address', 'famsize', 'Pstatus', 'Medu', 'Fedu',\n",
       "       'Mjob', 'Fjob', 'reason', 'guardian', 'traveltime', 'studytime',\n",
       "       'failures', 'schoolsup', 'famsup', 'paid', 'activities', 'nursery',\n",
       "       'higher', 'internet', 'romantic', 'famrel', 'freetime', 'goout', 'Dalc',\n",
       "       'Walc', 'health', 'absences', 'G1', 'G2', 'G3'],\n",
       "      dtype='object')"
      ]
     },
     "execution_count": 21,
     "metadata": {},
     "output_type": "execute_result"
    }
   ],
   "source": [
    "math.columns"
   ]
  },
  {
   "cell_type": "code",
   "execution_count": 22,
   "metadata": {
    "collapsed": false
   },
   "outputs": [],
   "source": [
    "math.drop(math.columns[[0,1,3,4,5,8,9,10,11,12,13,15,16,17,18,19,20,21,22,27]],axis=1, inplace=True)  #Dropping the variables which we don't need"
   ]
  },
  {
   "cell_type": "code",
   "execution_count": 23,
   "metadata": {
    "collapsed": false
   },
   "outputs": [],
   "source": [
    "math=math[[ 'Dalc','G3', 'G2', 'G1', 'absences', 'health', 'goout', 'freetime',\n",
    "           'famrel', 'failures', 'Fedu', 'Medu', 'age']]  #Rearranging the Column"
   ]
  },
  {
   "cell_type": "code",
   "execution_count": 24,
   "metadata": {
    "collapsed": false
   },
   "outputs": [
    {
     "data": {
      "text/plain": [
       "Index(['Dalc', 'G3', 'G2', 'G1', 'absences', 'health', 'goout', 'freetime',\n",
       "       'famrel', 'failures', 'Fedu', 'Medu', 'age'],\n",
       "      dtype='object')"
      ]
     },
     "execution_count": 24,
     "metadata": {},
     "output_type": "execute_result"
    }
   ],
   "source": [
    "math.columns"
   ]
  },
  {
   "cell_type": "code",
   "execution_count": 25,
   "metadata": {
    "collapsed": false
   },
   "outputs": [
    {
     "data": {
      "text/plain": [
       "(1044, 13)"
      ]
     },
     "execution_count": 25,
     "metadata": {},
     "output_type": "execute_result"
    }
   ],
   "source": [
    "math.shape     #Getting the shape of the final datasets"
   ]
  },
  {
   "cell_type": "code",
   "execution_count": 26,
   "metadata": {
    "collapsed": false
   },
   "outputs": [],
   "source": [
    "#Dividing the datastes into train and test respectively\n",
    "X=math.iloc[:,1:]\n",
    "y=math.iloc[:,0]\n",
    "X_train, X_test, y_train, y_test=train_test_split(X,y,random_state=0)"
   ]
  },
  {
   "cell_type": "code",
   "execution_count": 27,
   "metadata": {
    "collapsed": false
   },
   "outputs": [
    {
     "data": {
      "text/plain": [
       "(783, 12)"
      ]
     },
     "execution_count": 27,
     "metadata": {},
     "output_type": "execute_result"
    }
   ],
   "source": [
    "X_train.shape  "
   ]
  },
  {
   "cell_type": "code",
   "execution_count": 28,
   "metadata": {
    "collapsed": false
   },
   "outputs": [
    {
     "data": {
      "text/plain": [
       "(783,)"
      ]
     },
     "execution_count": 28,
     "metadata": {},
     "output_type": "execute_result"
    }
   ],
   "source": [
    "y_train.shape "
   ]
  },
  {
   "cell_type": "code",
   "execution_count": 29,
   "metadata": {
    "collapsed": false
   },
   "outputs": [
    {
     "data": {
      "text/plain": [
       "(261,)"
      ]
     },
     "execution_count": 29,
     "metadata": {},
     "output_type": "execute_result"
    }
   ],
   "source": [
    "y_test.shape"
   ]
  },
  {
   "cell_type": "code",
   "execution_count": 30,
   "metadata": {
    "collapsed": true
   },
   "outputs": [],
   "source": [
    "l1=[]  #for storing the name of classifier\n",
    "l2=[]  #for storing accuracy of classifier\n",
    "error=[]  #storing the error fo the respective classifier"
   ]
  },
  {
   "cell_type": "code",
   "execution_count": 31,
   "metadata": {
    "collapsed": false
   },
   "outputs": [
    {
     "data": {
      "text/plain": [
       "LogisticRegression(C=1.0, class_weight=None, dual=False, fit_intercept=True,\n",
       "          intercept_scaling=1, max_iter=100, multi_class='ovr', n_jobs=1,\n",
       "          penalty='l2', random_state=0, solver='newton-cg', tol=0.0001,\n",
       "          verbose=0, warm_start=False)"
      ]
     },
     "execution_count": 31,
     "metadata": {},
     "output_type": "execute_result"
    }
   ],
   "source": [
    "#Multivariate Logistic Regression\n",
    "l1.append('Multivariate LogisticRegression')\n",
    "classifier_1=LogisticRegression(solver='newton-cg',random_state=0)\n",
    "classifier_1.fit(X_train, y_train)"
   ]
  },
  {
   "cell_type": "code",
   "execution_count": 32,
   "metadata": {
    "collapsed": false
   },
   "outputs": [
    {
     "name": "stdout",
     "output_type": "stream",
     "text": [
      "[[74  5  4  4  5  0  0  0  1]\n",
      " [41  1  1  0  5  0  1  0  0]\n",
      " [37  0  2  0  0  0  0  0  0]\n",
      " [20  1  1  2  3  0  0  0  0]\n",
      " [14  1  1  0  6  0  0  0  0]\n",
      " [12  0  0  1  3  0  0  0  0]\n",
      " [ 5  0  0  0  2  0  1  0  0]\n",
      " [ 0  1  0  0  2  0  0  0  0]\n",
      " [ 1  0  0  1  1  1  0  0  0]]\n"
     ]
    }
   ],
   "source": [
    "y_pred=classifier_1.predict(X_test)\n",
    "from sklearn.metrics import confusion_matrix,accuracy_score\n",
    "conf_matrix=confusion_matrix(y_test,y_pred)\n",
    "print(conf_matrix)"
   ]
  },
  {
   "cell_type": "code",
   "execution_count": 33,
   "metadata": {
    "collapsed": false
   },
   "outputs": [
    {
     "name": "stdout",
     "output_type": "stream",
     "text": [
      "Accuracy of logistic regression classifier on test set: 0.33\n",
      "Mean Absolute Error: 1.7126436781609196\n",
      "Mean Squared Error: 5.934865900383142\n",
      "Root Mean Squared Error: 2.4361580204049043\n"
     ]
    }
   ],
   "source": [
    "print('Accuracy of logistic regression classifier on test set: {:.2f}'.format(accuracy_score(y_pred, y_test)))\n",
    "l2.append(classifier_1.score(X_test, y_test))\n",
    "print('Mean Absolute Error:', metrics.mean_absolute_error(y_test, y_pred))\n",
    "error.append(metrics.mean_absolute_error(y_test, y_pred))\n",
    "print('Mean Squared Error:', metrics.mean_squared_error(y_test, y_pred))  \n",
    "print('Root Mean Squared Error:', np.sqrt(metrics.mean_squared_error(y_test, y_pred)))  "
   ]
  },
  {
   "cell_type": "code",
   "execution_count": 34,
   "metadata": {
    "collapsed": false
   },
   "outputs": [
    {
     "data": {
      "text/plain": [
       "DecisionTreeClassifier(class_weight=None, criterion='gini', max_depth=None,\n",
       "            max_features=None, max_leaf_nodes=None,\n",
       "            min_impurity_decrease=0.0, min_impurity_split=None,\n",
       "            min_samples_leaf=1, min_samples_split=2,\n",
       "            min_weight_fraction_leaf=0.0, presort=False, random_state=0,\n",
       "            splitter='best')"
      ]
     },
     "execution_count": 34,
     "metadata": {},
     "output_type": "execute_result"
    }
   ],
   "source": [
    "#Decision Tree Classifier\n",
    "l1.append('DecisionTreeClassifier')\n",
    "classifier_2=DecisionTreeClassifier(random_state=0)\n",
    "classifier_2.fit(X_train,y_train)"
   ]
  },
  {
   "cell_type": "code",
   "execution_count": 35,
   "metadata": {
    "collapsed": false
   },
   "outputs": [
    {
     "name": "stdout",
     "output_type": "stream",
     "text": [
      "[[54 18  8  9  3  1  0  0  0]\n",
      " [12 19  7  3  3  2  0  0  3]\n",
      " [13  4 12  5  0  3  0  0  2]\n",
      " [ 6  3  6  9  1  1  1  0  0]\n",
      " [ 4  1  5  2  5  1  0  2  2]\n",
      " [ 3  1  5  1  0  5  0  0  1]\n",
      " [ 4  2  0  1  1  0  0  0  0]\n",
      " [ 0  1  0  0  2  0  0  0  0]\n",
      " [ 0  0  0  0  1  0  0  0  3]]\n"
     ]
    }
   ],
   "source": [
    "y_pred=classifier_2.predict(X_test)\n",
    "conf_matrix=confusion_matrix(y_test,y_pred)\n",
    "print(conf_matrix)"
   ]
  },
  {
   "cell_type": "code",
   "execution_count": 36,
   "metadata": {
    "collapsed": false
   },
   "outputs": [
    {
     "name": "stdout",
     "output_type": "stream",
     "text": [
      "Accuracy of Decision Tree classifier on test set: 0.41\n",
      "Mean Absolute Error: 1.4291187739463602\n",
      "Mean Squared Error: 4.823754789272031\n",
      "Root Mean Squared Error: 2.1963048033622363\n"
     ]
    }
   ],
   "source": [
    "print('Accuracy of Decision Tree classifier on test set: {:.2f}'.format(accuracy_score(y_test, y_pred)))\n",
    "l2.append(classifier_2.score(X_test, y_test))\n",
    "print('Mean Absolute Error:', metrics.mean_absolute_error(y_test, y_pred)) \n",
    "error.append(metrics.mean_absolute_error(y_test, y_pred))\n",
    "print('Mean Squared Error:', metrics.mean_squared_error(y_test, y_pred))  \n",
    "print('Root Mean Squared Error:', np.sqrt(metrics.mean_squared_error(y_test, y_pred)))  "
   ]
  },
  {
   "cell_type": "code",
   "execution_count": 37,
   "metadata": {
    "collapsed": false
   },
   "outputs": [
    {
     "data": {
      "text/plain": [
       "KNeighborsClassifier(algorithm='auto', leaf_size=30, metric='minkowski',\n",
       "           metric_params=None, n_jobs=1, n_neighbors=5, p=2,\n",
       "           weights='uniform')"
      ]
     },
     "execution_count": 37,
     "metadata": {},
     "output_type": "execute_result"
    }
   ],
   "source": [
    "#KNN\n",
    "l1.append('KNeighborsClassifier')\n",
    "classifier_3=KNeighborsClassifier()\n",
    "classifier_3.fit(X_train,y_train)"
   ]
  },
  {
   "cell_type": "code",
   "execution_count": 38,
   "metadata": {
    "collapsed": false
   },
   "outputs": [
    {
     "name": "stdout",
     "output_type": "stream",
     "text": [
      "[[66  9 10  4  1  2  0  0  1]\n",
      " [36  7  1  3  2  0  0  0  0]\n",
      " [20  4  9  5  1  0  0  0  0]\n",
      " [17  6  0  2  1  0  1  0  0]\n",
      " [15  3  2  0  2  0  0  0  0]\n",
      " [ 8  2  3  1  2  0  0  0  0]\n",
      " [ 6  1  1  0  0  0  0  0  0]\n",
      " [ 0  1  0  1  1  0  0  0  0]\n",
      " [ 2  1  0  0  1  0  0  0  0]]\n"
     ]
    }
   ],
   "source": [
    "y_pred=classifier_3.predict(X_test)\n",
    "conf_matrix=confusion_matrix(y_test,y_pred)\n",
    "print(conf_matrix)"
   ]
  },
  {
   "cell_type": "code",
   "execution_count": 39,
   "metadata": {
    "collapsed": false
   },
   "outputs": [
    {
     "name": "stdout",
     "output_type": "stream",
     "text": [
      "Accuracy of K nearest neighbour on test set: 0.33\n",
      "Mean Absolute Error: 1.7203065134099618\n",
      "Mean Squared Error: 6.180076628352491\n",
      "Root Mean Squared Error: 2.485975991105403\n"
     ]
    }
   ],
   "source": [
    "print('Accuracy of K nearest neighbour on test set: {:.2f}'.format(accuracy_score(y_pred, y_test)))\n",
    "l2.append(classifier_3.score(X_test, y_test))\n",
    "print('Mean Absolute Error:', metrics.mean_absolute_error(y_test, y_pred))  \n",
    "error.append(metrics.mean_absolute_error(y_test, y_pred))\n",
    "print('Mean Squared Error:', metrics.mean_squared_error(y_test, y_pred))  \n",
    "print('Root Mean Squared Error:', np.sqrt(metrics.mean_squared_error(y_test, y_pred)))  "
   ]
  },
  {
   "cell_type": "code",
   "execution_count": 40,
   "metadata": {
    "collapsed": false
   },
   "outputs": [
    {
     "name": "stdout",
     "output_type": "stream",
     "text": [
      "[[75  2  4  4  5  0  0  0  3]\n",
      " [39  1  1  1  6  0  1  0  0]\n",
      " [35  0  1  1  1  1  0  0  0]\n",
      " [18  1  2  1  3  0  0  1  1]\n",
      " [11  1  1  1  7  1  0  0  0]\n",
      " [11  0  1  1  3  0  0  0  0]\n",
      " [ 5  0  0  0  2  0  1  0  0]\n",
      " [ 0  0  0  1  2  0  0  0  0]\n",
      " [ 1  0  0  1  1  1  0  0  0]]\n"
     ]
    }
   ],
   "source": [
    "#LDA\n",
    "l1.append('LDA')\n",
    "classifier_4=LDA(n_components=1)\n",
    "classifier_4.fit(X_train,y_train)\n",
    "y_pred=classifier_4.predict(X_test)\n",
    "conf_matrix=confusion_matrix(y_test,y_pred)\n",
    "print(conf_matrix)"
   ]
  },
  {
   "cell_type": "code",
   "execution_count": 41,
   "metadata": {
    "collapsed": false
   },
   "outputs": [
    {
     "name": "stdout",
     "output_type": "stream",
     "text": [
      "Accuracy of LDA on test set: 0.33\n",
      "Mean Absolute Error: 1.7432950191570882\n",
      "Mean Squared Error: 6.256704980842912\n",
      "Root Mean Squared Error: 2.5013406367072264\n"
     ]
    }
   ],
   "source": [
    "print('Accuracy of LDA on test set: {:.2f}'.format(accuracy_score(y_pred, y_test)))\n",
    "l2.append(classifier_4.score(X_test, y_test))\n",
    "print('Mean Absolute Error:', metrics.mean_absolute_error(y_test, y_pred))\n",
    "error.append(metrics.mean_absolute_error(y_test, y_pred))\n",
    "print('Mean Squared Error:', metrics.mean_squared_error(y_test, y_pred))  \n",
    "print('Root Mean Squared Error:', np.sqrt(metrics.mean_squared_error(y_test, y_pred)))  "
   ]
  },
  {
   "cell_type": "code",
   "execution_count": 42,
   "metadata": {
    "collapsed": false
   },
   "outputs": [
    {
     "name": "stdout",
     "output_type": "stream",
     "text": [
      "[[78  8  4  1  2  0  0  0  0]\n",
      " [21 21  3  0  3  0  0  0  1]\n",
      " [22  0 12  3  2  0  0  0  0]\n",
      " [16  1  2  6  2  0  0  0  0]\n",
      " [ 9  1  2  1  9  0  0  0  0]\n",
      " [ 7  0  1  3  1  4  0  0  0]\n",
      " [ 4  1  1  0  2  0  0  0  0]\n",
      " [ 0  1  0  0  2  0  0  0  0]\n",
      " [ 1  1  0  0  0  0  0  0  2]]\n"
     ]
    }
   ],
   "source": [
    "#Random Forest Classifier\n",
    "l1.append('Random Forest Classifier')\n",
    "from sklearn.ensemble import RandomForestClassifier\n",
    "classifier_5=RandomForestClassifier(n_estimators=100,random_state=0)   \n",
    "classifier_5.fit(X_train, y_train)  \n",
    "y_pred = classifier_5.predict(X_test)\n",
    "conf_matrix=confusion_matrix(y_test,y_pred)\n",
    "print(conf_matrix)"
   ]
  },
  {
   "cell_type": "code",
   "execution_count": 43,
   "metadata": {
    "collapsed": false
   },
   "outputs": [
    {
     "name": "stdout",
     "output_type": "stream",
     "text": [
      "Accuracy of Random Forest Classifier on test set: 0.51\n",
      "Mean Absolute Error: 1.2452107279693487\n",
      "Mean Squared Error: 4.3486590038314175\n",
      "Root Mean Squared Error: 2.085343857456467\n"
     ]
    }
   ],
   "source": [
    "print('Accuracy of Random Forest Classifier on test set: {:.2f}'.format(accuracy_score(y_pred, y_test)))\n",
    "l2.append(classifier_5.score(X_test, y_test))\n",
    "print('Mean Absolute Error:', metrics.mean_absolute_error(y_test, y_pred))\n",
    "error.append(metrics.mean_absolute_error(y_test, y_pred))\n",
    "print('Mean Squared Error:', metrics.mean_squared_error(y_test, y_pred))  \n",
    "print('Root Mean Squared Error:', np.sqrt(metrics.mean_squared_error(y_test, y_pred)))  "
   ]
  },
  {
   "cell_type": "code",
   "execution_count": 44,
   "metadata": {
    "collapsed": false
   },
   "outputs": [
    {
     "name": "stdout",
     "output_type": "stream",
     "text": [
      "[[84  0  1  2  6  0  0  0  0]\n",
      " [43  0  0  0  5  0  1  0  0]\n",
      " [38  0  0  0  1  0  0  0  0]\n",
      " [23  0  0  1  2  0  0  0  1]\n",
      " [16  0  0  0  6  0  0  0  0]\n",
      " [12  0  0  1  3  0  0  0  0]\n",
      " [ 5  0  0  1  2  0  0  0  0]\n",
      " [ 1  0  0  0  2  0  0  0  0]\n",
      " [ 2  0  0  0  2  0  0  0  0]]\n"
     ]
    }
   ],
   "source": [
    "#SVM\n",
    "l1.append('SVM')\n",
    "from sklearn.svm import SVC \n",
    "classifier_6 = SVC(kernel = 'linear', C = 1).fit(X_train, y_train) \n",
    "y_pred = classifier_6.predict(X_test)\n",
    "conf_matrix=confusion_matrix(y_test,y_pred)\n",
    "print(conf_matrix)"
   ]
  },
  {
   "cell_type": "code",
   "execution_count": 45,
   "metadata": {
    "collapsed": false
   },
   "outputs": [
    {
     "name": "stdout",
     "output_type": "stream",
     "text": [
      "Accuracy of SVM on test set: 0.35\n",
      "Mean Absolute Error: 1.7318007662835249\n",
      "Mean Squared Error: 6.160919540229885\n",
      "Root Mean Squared Error: 2.4821199689438633\n"
     ]
    }
   ],
   "source": [
    "print('Accuracy of SVM on test set: {:.2f}'.format(accuracy_score(y_pred, y_test)))\n",
    "l2.append(classifier_6.score(X_test, y_test))\n",
    "print('Mean Absolute Error:', metrics.mean_absolute_error(y_test, y_pred))\n",
    "error.append(metrics.mean_absolute_error(y_test, y_pred))\n",
    "print('Mean Squared Error:', metrics.mean_squared_error(y_test, y_pred))  \n",
    "print('Root Mean Squared Error:', np.sqrt(metrics.mean_squared_error(y_test, y_pred)))  "
   ]
  },
  {
   "cell_type": "code",
   "execution_count": 46,
   "metadata": {
    "collapsed": false
   },
   "outputs": [
    {
     "name": "stdout",
     "output_type": "stream",
     "text": [
      "[[49 25  1  4  9  1  1  1  2]\n",
      " [28 12  1  3  4  0  1  0  0]\n",
      " [16 14  2  0  5  0  2  0  0]\n",
      " [ 9  7  1  0  7  0  3  0  0]\n",
      " [ 5  7  1  0  7  1  1  0  0]\n",
      " [ 5  2  0  0  5  0  3  1  0]\n",
      " [ 3  0  2  0  2  0  1  0  0]\n",
      " [ 1  0  0  0  2  0  0  0  0]\n",
      " [ 0  0  0  0  2  0  1  0  1]]\n"
     ]
    }
   ],
   "source": [
    "l1.append('Naive Bayes')\n",
    "from sklearn.naive_bayes import GaussianNB \n",
    "classifier_7 = GaussianNB().fit(X_train, y_train) \n",
    "y_pred = classifier_7.predict(X_test)\n",
    "conf_matrix=confusion_matrix(y_test,y_pred)\n",
    "print(conf_matrix)"
   ]
  },
  {
   "cell_type": "code",
   "execution_count": 47,
   "metadata": {
    "collapsed": false
   },
   "outputs": [
    {
     "name": "stdout",
     "output_type": "stream",
     "text": [
      "Accuracy of Naive Bayes on test set: 0.28\n",
      "Mean Absolute Error: 1.628352490421456\n",
      "Mean Squared Error: 5.344827586206897\n",
      "Root Mean Squared Error: 2.3118883161188597\n"
     ]
    }
   ],
   "source": [
    "print('Accuracy of Naive Bayes on test set: {:.2f}'.format(accuracy_score(y_pred, y_test)))\n",
    "l2.append(classifier_7.score(X_test, y_test))\n",
    "print('Mean Absolute Error:', metrics.mean_absolute_error(y_test, y_pred))  \n",
    "error.append(metrics.mean_absolute_error(y_test, y_pred))\n",
    "print('Mean Squared Error:', metrics.mean_squared_error(y_test, y_pred))  \n",
    "print('Root Mean Squared Error:', np.sqrt(metrics.mean_squared_error(y_test, y_pred)))"
   ]
  },
  {
   "cell_type": "code",
   "execution_count": 48,
   "metadata": {
    "collapsed": false
   },
   "outputs": [
    {
     "data": {
      "text/plain": [
       "['Multivariate LogisticRegression',\n",
       " 'DecisionTreeClassifier',\n",
       " 'KNeighborsClassifier',\n",
       " 'LDA',\n",
       " 'Random Forest Classifier',\n",
       " 'SVM',\n",
       " 'Naive Bayes']"
      ]
     },
     "execution_count": 48,
     "metadata": {},
     "output_type": "execute_result"
    }
   ],
   "source": [
    "l1"
   ]
  },
  {
   "cell_type": "code",
   "execution_count": 49,
   "metadata": {
    "collapsed": false
   },
   "outputs": [
    {
     "data": {
      "text/plain": [
       "[0.32950191570881227,\n",
       " 0.4099616858237548,\n",
       " 0.32950191570881227,\n",
       " 0.32950191570881227,\n",
       " 0.5057471264367817,\n",
       " 0.3486590038314176,\n",
       " 0.27586206896551724]"
      ]
     },
     "execution_count": 49,
     "metadata": {},
     "output_type": "execute_result"
    }
   ],
   "source": [
    "l2"
   ]
  },
  {
   "cell_type": "code",
   "execution_count": 50,
   "metadata": {
    "collapsed": false
   },
   "outputs": [
    {
     "data": {
      "image/png": "[encoded data removed]",
      "text/plain": [
       "<Figure size 1440x1080 with 1 Axes>"
      ]
     },
     "metadata": {},
     "output_type": "display_data"
    }
   ],
   "source": [
    "f,ax = plt.subplots(figsize=(20, 15))\n",
    "sns.barplot(l1,l2)\n",
    "plt.title('Accuracy graph')\n",
    "plt.show()"
   ]
  },
  {
   "cell_type": "code",
   "execution_count": 51,
   "metadata": {
    "collapsed": false
   },
   "outputs": [
    {
     "data": {
      "image/png": "[encoded data removed]",
      "text/plain": [
       "<Figure size 1440x1080 with 1 Axes>"
      ]
     },
     "metadata": {},
     "output_type": "display_data"
    }
   ],
   "source": [
    "f,ax = plt.subplots(figsize=(20, 15))\n",
    "sns.barplot(l1,error)\n",
    "plt.title('Error graph')\n",
    "plt.show()"
   ]
  },
  {
   "cell_type": "markdown",
   "metadata": {},
   "source": [
    "After seeing the above results and graph we can say that random forest classifier has performed extremely well than the other multiclass classifiecation algorithm on the given dataset under the given circumstances.Decision Tree Classifier was also good compared to the other classifiers.LDA has predicted most incorrect results compared to the others algorithm on the give dataset. "
   ]
  },
  {
   "cell_type": "code",
   "execution_count": null,
   "metadata": {
    "collapsed": true
   },
   "outputs": [],
   "source": []
  }
 ],
 "metadata": {
  "kernelspec": {
   "display_name": "Python 3",
   "language": "python",
   "name": "python3"
  },
  "language_info": {
   "codemirror_mode": {
    "name": "ipython",
    "version": 3
   },
   "file_extension": ".py",
   "mimetype": "text/x-python",
   "name": "python",
   "nbconvert_exporter": "python",
   "pygments_lexer": "ipython3",
   "version": "3.6.6"
  }
 },
 "nbformat": 4,
 "nbformat_minor": 2
}
